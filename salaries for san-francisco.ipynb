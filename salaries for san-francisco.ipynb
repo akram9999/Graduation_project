{
 "cells": [
  {
   "cell_type": "code",
   "execution_count": 2,
   "id": "47b873da",
   "metadata": {},
   "outputs": [
    {
     "data": {
      "text/html": [
       "<div>\n",
       "<style scoped>\n",
       "    .dataframe tbody tr th:only-of-type {\n",
       "        vertical-align: middle;\n",
       "    }\n",
       "\n",
       "    .dataframe tbody tr th {\n",
       "        vertical-align: top;\n",
       "    }\n",
       "\n",
       "    .dataframe thead th {\n",
       "        text-align: right;\n",
       "    }\n",
       "</style>\n",
       "<table border=\"1\" class=\"dataframe\">\n",
       "  <thead>\n",
       "    <tr style=\"text-align: right;\">\n",
       "      <th></th>\n",
       "      <th>EmployeeName</th>\n",
       "      <th>JobTitle</th>\n",
       "      <th>BasePay</th>\n",
       "      <th>OvertimePay</th>\n",
       "      <th>OtherPay</th>\n",
       "      <th>Benefits</th>\n",
       "      <th>TotalPay</th>\n",
       "      <th>TotalPayBenefits</th>\n",
       "      <th>Year</th>\n",
       "    </tr>\n",
       "  </thead>\n",
       "  <tbody>\n",
       "    <tr>\n",
       "      <th>0</th>\n",
       "      <td>NATHANIEL FORD</td>\n",
       "      <td>GENERAL MANAGER-METROPOLITAN TRANSIT AUTHORITY</td>\n",
       "      <td>167411.18</td>\n",
       "      <td>0.00</td>\n",
       "      <td>400184.25</td>\n",
       "      <td>Not Provided</td>\n",
       "      <td>567595.43</td>\n",
       "      <td>567595.43</td>\n",
       "      <td>2011</td>\n",
       "    </tr>\n",
       "    <tr>\n",
       "      <th>1</th>\n",
       "      <td>GARY JIMENEZ</td>\n",
       "      <td>CAPTAIN III (POLICE DEPARTMENT)</td>\n",
       "      <td>155966.02</td>\n",
       "      <td>245131.88</td>\n",
       "      <td>137811.38</td>\n",
       "      <td>Not Provided</td>\n",
       "      <td>538909.28</td>\n",
       "      <td>538909.28</td>\n",
       "      <td>2011</td>\n",
       "    </tr>\n",
       "    <tr>\n",
       "      <th>2</th>\n",
       "      <td>ALBERT PARDINI</td>\n",
       "      <td>CAPTAIN III (POLICE DEPARTMENT)</td>\n",
       "      <td>212739.13</td>\n",
       "      <td>106088.18</td>\n",
       "      <td>16452.60</td>\n",
       "      <td>Not Provided</td>\n",
       "      <td>335279.91</td>\n",
       "      <td>335279.91</td>\n",
       "      <td>2011</td>\n",
       "    </tr>\n",
       "    <tr>\n",
       "      <th>3</th>\n",
       "      <td>CHRISTOPHER CHONG</td>\n",
       "      <td>WIRE ROPE CABLE MAINTENANCE MECHANIC</td>\n",
       "      <td>77916.00</td>\n",
       "      <td>56120.71</td>\n",
       "      <td>198306.90</td>\n",
       "      <td>Not Provided</td>\n",
       "      <td>332343.61</td>\n",
       "      <td>332343.61</td>\n",
       "      <td>2011</td>\n",
       "    </tr>\n",
       "    <tr>\n",
       "      <th>4</th>\n",
       "      <td>PATRICK GARDNER</td>\n",
       "      <td>DEPUTY CHIEF OF DEPARTMENT,(FIRE DEPARTMENT)</td>\n",
       "      <td>134401.60</td>\n",
       "      <td>9737.00</td>\n",
       "      <td>182234.59</td>\n",
       "      <td>Not Provided</td>\n",
       "      <td>326373.19</td>\n",
       "      <td>326373.19</td>\n",
       "      <td>2011</td>\n",
       "    </tr>\n",
       "  </tbody>\n",
       "</table>\n",
       "</div>"
      ],
      "text/plain": [
       "        EmployeeName                                        JobTitle  \\\n",
       "0     NATHANIEL FORD  GENERAL MANAGER-METROPOLITAN TRANSIT AUTHORITY   \n",
       "1       GARY JIMENEZ                 CAPTAIN III (POLICE DEPARTMENT)   \n",
       "2     ALBERT PARDINI                 CAPTAIN III (POLICE DEPARTMENT)   \n",
       "3  CHRISTOPHER CHONG            WIRE ROPE CABLE MAINTENANCE MECHANIC   \n",
       "4    PATRICK GARDNER    DEPUTY CHIEF OF DEPARTMENT,(FIRE DEPARTMENT)   \n",
       "\n",
       "     BasePay OvertimePay   OtherPay      Benefits   TotalPay  \\\n",
       "0  167411.18        0.00  400184.25  Not Provided  567595.43   \n",
       "1  155966.02   245131.88  137811.38  Not Provided  538909.28   \n",
       "2  212739.13   106088.18   16452.60  Not Provided  335279.91   \n",
       "3   77916.00    56120.71  198306.90  Not Provided  332343.61   \n",
       "4  134401.60     9737.00  182234.59  Not Provided  326373.19   \n",
       "\n",
       "   TotalPayBenefits  Year  \n",
       "0         567595.43  2011  \n",
       "1         538909.28  2011  \n",
       "2         335279.91  2011  \n",
       "3         332343.61  2011  \n",
       "4         326373.19  2011  "
      ]
     },
     "execution_count": 2,
     "metadata": {},
     "output_type": "execute_result"
    }
   ],
   "source": [
    "import numpy as np\n",
    "import pandas as pd\n",
    "df= pd.read_csv(\"Total.csv\",low_memory=False)\n",
    "df.head()"
   ]
  },
  {
   "cell_type": "code",
   "execution_count": 3,
   "id": "b994f66f",
   "metadata": {},
   "outputs": [
    {
     "name": "stdout",
     "output_type": "stream",
     "text": [
      "<class 'pandas.core.frame.DataFrame'>\n",
      "RangeIndex: 312882 entries, 0 to 312881\n",
      "Data columns (total 9 columns):\n",
      " #   Column            Non-Null Count   Dtype  \n",
      "---  ------            --------------   -----  \n",
      " 0   EmployeeName      312882 non-null  object \n",
      " 1   JobTitle          312882 non-null  object \n",
      " 2   BasePay           312882 non-null  object \n",
      " 3   OvertimePay       312882 non-null  object \n",
      " 4   OtherPay          312882 non-null  object \n",
      " 5   Benefits          312882 non-null  object \n",
      " 6   TotalPay          312882 non-null  float64\n",
      " 7   TotalPayBenefits  312882 non-null  float64\n",
      " 8   Year              312882 non-null  int64  \n",
      "dtypes: float64(2), int64(1), object(6)\n",
      "memory usage: 21.5+ MB\n"
     ]
    }
   ],
   "source": [
    "df.info()"
   ]
  },
  {
   "cell_type": "code",
   "execution_count": 4,
   "id": "b815ec8f",
   "metadata": {},
   "outputs": [
    {
     "data": {
      "text/html": [
       "<div>\n",
       "<style scoped>\n",
       "    .dataframe tbody tr th:only-of-type {\n",
       "        vertical-align: middle;\n",
       "    }\n",
       "\n",
       "    .dataframe tbody tr th {\n",
       "        vertical-align: top;\n",
       "    }\n",
       "\n",
       "    .dataframe thead th {\n",
       "        text-align: right;\n",
       "    }\n",
       "</style>\n",
       "<table border=\"1\" class=\"dataframe\">\n",
       "  <thead>\n",
       "    <tr style=\"text-align: right;\">\n",
       "      <th></th>\n",
       "      <th>EmployeeName</th>\n",
       "      <th>JobTitle</th>\n",
       "      <th>BasePay</th>\n",
       "      <th>OvertimePay</th>\n",
       "      <th>OtherPay</th>\n",
       "      <th>Benefits</th>\n",
       "      <th>TotalPay</th>\n",
       "      <th>TotalPayBenefits</th>\n",
       "      <th>Year</th>\n",
       "    </tr>\n",
       "  </thead>\n",
       "  <tbody>\n",
       "    <tr>\n",
       "      <th>0</th>\n",
       "      <td>nathaniel ford</td>\n",
       "      <td>general manager-metropolitan transit authority</td>\n",
       "      <td>167411.18</td>\n",
       "      <td>0.00</td>\n",
       "      <td>400184.25</td>\n",
       "      <td>Not Provided</td>\n",
       "      <td>567595.43</td>\n",
       "      <td>567595.43</td>\n",
       "      <td>2011</td>\n",
       "    </tr>\n",
       "    <tr>\n",
       "      <th>1</th>\n",
       "      <td>gary jimenez</td>\n",
       "      <td>captain iii (police department)</td>\n",
       "      <td>155966.02</td>\n",
       "      <td>245131.88</td>\n",
       "      <td>137811.38</td>\n",
       "      <td>Not Provided</td>\n",
       "      <td>538909.28</td>\n",
       "      <td>538909.28</td>\n",
       "      <td>2011</td>\n",
       "    </tr>\n",
       "    <tr>\n",
       "      <th>2</th>\n",
       "      <td>albert pardini</td>\n",
       "      <td>captain iii (police department)</td>\n",
       "      <td>212739.13</td>\n",
       "      <td>106088.18</td>\n",
       "      <td>16452.60</td>\n",
       "      <td>Not Provided</td>\n",
       "      <td>335279.91</td>\n",
       "      <td>335279.91</td>\n",
       "      <td>2011</td>\n",
       "    </tr>\n",
       "    <tr>\n",
       "      <th>3</th>\n",
       "      <td>christopher chong</td>\n",
       "      <td>wire rope cable maintenance mechanic</td>\n",
       "      <td>77916.00</td>\n",
       "      <td>56120.71</td>\n",
       "      <td>198306.90</td>\n",
       "      <td>Not Provided</td>\n",
       "      <td>332343.61</td>\n",
       "      <td>332343.61</td>\n",
       "      <td>2011</td>\n",
       "    </tr>\n",
       "    <tr>\n",
       "      <th>4</th>\n",
       "      <td>patrick gardner</td>\n",
       "      <td>deputy chief of department,(fire department)</td>\n",
       "      <td>134401.60</td>\n",
       "      <td>9737.00</td>\n",
       "      <td>182234.59</td>\n",
       "      <td>Not Provided</td>\n",
       "      <td>326373.19</td>\n",
       "      <td>326373.19</td>\n",
       "      <td>2011</td>\n",
       "    </tr>\n",
       "    <tr>\n",
       "      <th>...</th>\n",
       "      <td>...</td>\n",
       "      <td>...</td>\n",
       "      <td>...</td>\n",
       "      <td>...</td>\n",
       "      <td>...</td>\n",
       "      <td>...</td>\n",
       "      <td>...</td>\n",
       "      <td>...</td>\n",
       "      <td>...</td>\n",
       "    </tr>\n",
       "    <tr>\n",
       "      <th>312877</th>\n",
       "      <td>daniel w plautz</td>\n",
       "      <td>public service trainee</td>\n",
       "      <td>0.00</td>\n",
       "      <td>0.00</td>\n",
       "      <td>0.00</td>\n",
       "      <td>0.00</td>\n",
       "      <td>0.00</td>\n",
       "      <td>0.00</td>\n",
       "      <td>2018</td>\n",
       "    </tr>\n",
       "    <tr>\n",
       "      <th>312878</th>\n",
       "      <td>david j thompson</td>\n",
       "      <td>deputy sheriff</td>\n",
       "      <td>0.00</td>\n",
       "      <td>0.00</td>\n",
       "      <td>0.00</td>\n",
       "      <td>0.00</td>\n",
       "      <td>0.00</td>\n",
       "      <td>0.00</td>\n",
       "      <td>2018</td>\n",
       "    </tr>\n",
       "    <tr>\n",
       "      <th>312879</th>\n",
       "      <td>keiko weng yee lau</td>\n",
       "      <td>public service trainee</td>\n",
       "      <td>0.00</td>\n",
       "      <td>0.00</td>\n",
       "      <td>0.00</td>\n",
       "      <td>0.00</td>\n",
       "      <td>0.00</td>\n",
       "      <td>0.00</td>\n",
       "      <td>2018</td>\n",
       "    </tr>\n",
       "    <tr>\n",
       "      <th>312880</th>\n",
       "      <td>david wong</td>\n",
       "      <td>deputy sheriff</td>\n",
       "      <td>0.00</td>\n",
       "      <td>0.00</td>\n",
       "      <td>0.00</td>\n",
       "      <td>0.00</td>\n",
       "      <td>0.00</td>\n",
       "      <td>0.00</td>\n",
       "      <td>2018</td>\n",
       "    </tr>\n",
       "    <tr>\n",
       "      <th>312881</th>\n",
       "      <td>debora e howard</td>\n",
       "      <td>recreation leader</td>\n",
       "      <td>0.00</td>\n",
       "      <td>0.00</td>\n",
       "      <td>0.00</td>\n",
       "      <td>0.00</td>\n",
       "      <td>0.00</td>\n",
       "      <td>0.00</td>\n",
       "      <td>2018</td>\n",
       "    </tr>\n",
       "  </tbody>\n",
       "</table>\n",
       "<p>312882 rows × 9 columns</p>\n",
       "</div>"
      ],
      "text/plain": [
       "              EmployeeName                                        JobTitle  \\\n",
       "0           nathaniel ford  general manager-metropolitan transit authority   \n",
       "1             gary jimenez                 captain iii (police department)   \n",
       "2           albert pardini                 captain iii (police department)   \n",
       "3        christopher chong            wire rope cable maintenance mechanic   \n",
       "4          patrick gardner    deputy chief of department,(fire department)   \n",
       "...                    ...                                             ...   \n",
       "312877     daniel w plautz                          public service trainee   \n",
       "312878    david j thompson                                  deputy sheriff   \n",
       "312879  keiko weng yee lau                          public service trainee   \n",
       "312880          david wong                                  deputy sheriff   \n",
       "312881     debora e howard                               recreation leader   \n",
       "\n",
       "          BasePay OvertimePay   OtherPay      Benefits   TotalPay  \\\n",
       "0       167411.18        0.00  400184.25  Not Provided  567595.43   \n",
       "1       155966.02   245131.88  137811.38  Not Provided  538909.28   \n",
       "2       212739.13   106088.18   16452.60  Not Provided  335279.91   \n",
       "3        77916.00    56120.71  198306.90  Not Provided  332343.61   \n",
       "4       134401.60     9737.00  182234.59  Not Provided  326373.19   \n",
       "...           ...         ...        ...           ...        ...   \n",
       "312877       0.00        0.00       0.00          0.00       0.00   \n",
       "312878       0.00        0.00       0.00          0.00       0.00   \n",
       "312879       0.00        0.00       0.00          0.00       0.00   \n",
       "312880       0.00        0.00       0.00          0.00       0.00   \n",
       "312881       0.00        0.00       0.00          0.00       0.00   \n",
       "\n",
       "        TotalPayBenefits  Year  \n",
       "0              567595.43  2011  \n",
       "1              538909.28  2011  \n",
       "2              335279.91  2011  \n",
       "3              332343.61  2011  \n",
       "4              326373.19  2011  \n",
       "...                  ...   ...  \n",
       "312877              0.00  2018  \n",
       "312878              0.00  2018  \n",
       "312879              0.00  2018  \n",
       "312880              0.00  2018  \n",
       "312881              0.00  2018  \n",
       "\n",
       "[312882 rows x 9 columns]"
      ]
     },
     "execution_count": 4,
     "metadata": {},
     "output_type": "execute_result"
    }
   ],
   "source": [
    "df['EmployeeName'] = df['EmployeeName'].str.lower()\n",
    "df['JobTitle'] = df['JobTitle'].str.lower()\n",
    "df"
   ]
  },
  {
   "cell_type": "code",
   "execution_count": 5,
   "id": "4760c42d",
   "metadata": {},
   "outputs": [],
   "source": [
    "df[\"BasePay\"]=pd.to_numeric(df[\"BasePay\"],errors= \"coerce\")\n",
    "df[\"OvertimePay\"]=pd.to_numeric(df[\"OvertimePay\"],errors= \"coerce\")\n",
    "df[\"OtherPay\"]=pd.to_numeric(df[\"OtherPay\"],errors= \"coerce\")\n",
    "df[\"Benefits\"]=pd.to_numeric(df[\"Benefits\"],errors= \"coerce\")"
   ]
  },
  {
   "cell_type": "code",
   "execution_count": 6,
   "id": "4d75ee48",
   "metadata": {},
   "outputs": [
    {
     "name": "stdout",
     "output_type": "stream",
     "text": [
      "<class 'pandas.core.frame.DataFrame'>\n",
      "RangeIndex: 312882 entries, 0 to 312881\n",
      "Data columns (total 9 columns):\n",
      " #   Column            Non-Null Count   Dtype  \n",
      "---  ------            --------------   -----  \n",
      " 0   EmployeeName      312882 non-null  object \n",
      " 1   JobTitle          312882 non-null  object \n",
      " 2   BasePay           312276 non-null  float64\n",
      " 3   OvertimePay       312881 non-null  float64\n",
      " 4   OtherPay          312881 non-null  float64\n",
      " 5   Benefits          276722 non-null  float64\n",
      " 6   TotalPay          312882 non-null  float64\n",
      " 7   TotalPayBenefits  312882 non-null  float64\n",
      " 8   Year              312882 non-null  int64  \n",
      "dtypes: float64(6), int64(1), object(2)\n",
      "memory usage: 21.5+ MB\n"
     ]
    }
   ],
   "source": [
    "df.info()"
   ]
  },
  {
   "cell_type": "code",
   "execution_count": 7,
   "id": "9dea5300",
   "metadata": {},
   "outputs": [
    {
     "data": {
      "text/plain": [
       "EmployeeName            0\n",
       "JobTitle                0\n",
       "BasePay               606\n",
       "OvertimePay             1\n",
       "OtherPay                1\n",
       "Benefits            36160\n",
       "TotalPay                0\n",
       "TotalPayBenefits        0\n",
       "Year                    0\n",
       "dtype: int64"
      ]
     },
     "execution_count": 7,
     "metadata": {},
     "output_type": "execute_result"
    }
   ],
   "source": [
    "df.isnull().sum()"
   ]
  },
  {
   "cell_type": "code",
   "execution_count": 8,
   "id": "6b0503c9",
   "metadata": {},
   "outputs": [],
   "source": [
    "df[\"BasePay\"]= df[\"BasePay\"].fillna(0)\n",
    "df[\"OvertimePay\"]= df[\"OvertimePay\"].fillna(0)\n",
    "df[\"OtherPay\"]= df[\"OtherPay\"].fillna(0)\n",
    "df[\"Benefits\"]= df[\"Benefits\"].fillna(0)"
   ]
  },
  {
   "cell_type": "code",
   "execution_count": 9,
   "id": "f4f9e8af",
   "metadata": {},
   "outputs": [
    {
     "name": "stdout",
     "output_type": "stream",
     "text": [
      "<class 'pandas.core.frame.DataFrame'>\n",
      "RangeIndex: 312882 entries, 0 to 312881\n",
      "Data columns (total 9 columns):\n",
      " #   Column            Non-Null Count   Dtype  \n",
      "---  ------            --------------   -----  \n",
      " 0   EmployeeName      312882 non-null  object \n",
      " 1   JobTitle          312882 non-null  object \n",
      " 2   BasePay           312882 non-null  float64\n",
      " 3   OvertimePay       312882 non-null  float64\n",
      " 4   OtherPay          312882 non-null  float64\n",
      " 5   Benefits          312882 non-null  float64\n",
      " 6   TotalPay          312882 non-null  float64\n",
      " 7   TotalPayBenefits  312882 non-null  float64\n",
      " 8   Year              312882 non-null  int64  \n",
      "dtypes: float64(6), int64(1), object(2)\n",
      "memory usage: 21.5+ MB\n"
     ]
    }
   ],
   "source": [
    "df.info()"
   ]
  },
  {
   "cell_type": "code",
   "execution_count": 10,
   "id": "475c2671",
   "metadata": {},
   "outputs": [
    {
     "data": {
      "text/plain": [
       "EmployeeName        0\n",
       "JobTitle            0\n",
       "BasePay             0\n",
       "OvertimePay         0\n",
       "OtherPay            0\n",
       "Benefits            0\n",
       "TotalPay            0\n",
       "TotalPayBenefits    0\n",
       "Year                0\n",
       "dtype: int64"
      ]
     },
     "execution_count": 10,
     "metadata": {},
     "output_type": "execute_result"
    }
   ],
   "source": [
    "df.isnull().sum()"
   ]
  },
  {
   "cell_type": "markdown",
   "id": "811197d1",
   "metadata": {},
   "source": [
    "### Questions"
   ]
  },
  {
   "cell_type": "markdown",
   "id": "ab03b472",
   "metadata": {},
   "source": [
    "#### 1. Basic Information:\n",
    "1-How many records (rows) and fields (columns) are there in the dataset?\n",
    "2-What are the names of the columns in the dataset?\n",
    "3-What are the data types of each column?"
   ]
  },
  {
   "cell_type": "code",
   "execution_count": 11,
   "id": "c96f1325",
   "metadata": {},
   "outputs": [
    {
     "name": "stdout",
     "output_type": "stream",
     "text": [
      "<class 'pandas.core.frame.DataFrame'>\n",
      "RangeIndex: 312882 entries, 0 to 312881\n",
      "Data columns (total 9 columns):\n",
      " #   Column            Non-Null Count   Dtype  \n",
      "---  ------            --------------   -----  \n",
      " 0   EmployeeName      312882 non-null  object \n",
      " 1   JobTitle          312882 non-null  object \n",
      " 2   BasePay           312882 non-null  float64\n",
      " 3   OvertimePay       312882 non-null  float64\n",
      " 4   OtherPay          312882 non-null  float64\n",
      " 5   Benefits          312882 non-null  float64\n",
      " 6   TotalPay          312882 non-null  float64\n",
      " 7   TotalPayBenefits  312882 non-null  float64\n",
      " 8   Year              312882 non-null  int64  \n",
      "dtypes: float64(6), int64(1), object(2)\n",
      "memory usage: 21.5+ MB\n"
     ]
    }
   ],
   "source": [
    "df.info()"
   ]
  },
  {
   "cell_type": "code",
   "execution_count": 12,
   "id": "94f0d79b",
   "metadata": {},
   "outputs": [
    {
     "data": {
      "text/plain": [
       "EmployeeName         object\n",
       "JobTitle             object\n",
       "BasePay             float64\n",
       "OvertimePay         float64\n",
       "OtherPay            float64\n",
       "Benefits            float64\n",
       "TotalPay            float64\n",
       "TotalPayBenefits    float64\n",
       "Year                  int64\n",
       "dtype: object"
      ]
     },
     "execution_count": 12,
     "metadata": {},
     "output_type": "execute_result"
    }
   ],
   "source": [
    "df.dtypes"
   ]
  },
  {
   "cell_type": "markdown",
   "id": "c49ea81d",
   "metadata": {},
   "source": [
    "#### 2. Salary Overview:\n",
    "What is the average salary for the entire dataset?\n",
    "What is the highest and lowest salary recorded in the dataset?\n",
    "What is the distribution of salaries across different pay scales?"
   ]
  },
  {
   "cell_type": "code",
   "execution_count": 13,
   "id": "a7bdfaa9",
   "metadata": {},
   "outputs": [
    {
     "data": {
      "text/plain": [
       "78802.64578777303"
      ]
     },
     "execution_count": 13,
     "metadata": {},
     "output_type": "execute_result"
    }
   ],
   "source": [
    "df[\"TotalPay\"].mean()"
   ]
  },
  {
   "cell_type": "code",
   "execution_count": 14,
   "id": "b137f27e",
   "metadata": {},
   "outputs": [
    {
     "data": {
      "text/plain": [
       "592394.34"
      ]
     },
     "execution_count": 14,
     "metadata": {},
     "output_type": "execute_result"
    }
   ],
   "source": [
    "df[\"TotalPay\"].max()"
   ]
  },
  {
   "cell_type": "code",
   "execution_count": 15,
   "id": "0d04eb46",
   "metadata": {},
   "outputs": [
    {
     "data": {
      "text/plain": [
       "-618.13"
      ]
     },
     "execution_count": 15,
     "metadata": {},
     "output_type": "execute_result"
    }
   ],
   "source": [
    "df[\"TotalPay\"].min()"
   ]
  },
  {
   "cell_type": "code",
   "execution_count": 16,
   "id": "c15decc3",
   "metadata": {},
   "outputs": [
    {
     "data": {
      "text/plain": [
       "count    312882.000000\n",
       "mean      78802.645788\n",
       "std       53230.758542\n",
       "min        -618.130000\n",
       "25%       38803.000000\n",
       "50%       74908.790000\n",
       "75%      111386.897500\n",
       "max      592394.340000\n",
       "Name: TotalPay, dtype: float64"
      ]
     },
     "execution_count": 16,
     "metadata": {},
     "output_type": "execute_result"
    }
   ],
   "source": [
    "df[\"TotalPay\"].describe()"
   ]
  },
  {
   "cell_type": "markdown",
   "id": "782476c7",
   "metadata": {},
   "source": [
    "#### 3. Yearly Trends:\n",
    "How does the average salary change from year to year?\n",
    "What is the overall salary trend over the years?"
   ]
  },
  {
   "cell_type": "code",
   "execution_count": 18,
   "id": "9f22153e",
   "metadata": {},
   "outputs": [
    {
     "name": "stderr",
     "output_type": "stream",
     "text": [
      "C:\\Users\\Akram\\AppData\\Local\\Temp\\ipykernel_10652\\1614167822.py:1: FutureWarning: The default value of numeric_only in DataFrameGroupBy.mean is deprecated. In a future version, numeric_only will default to False. Either specify numeric_only or select only columns which should be valid for the function.\n",
      "  df.groupby('Year').mean()['TotalPay']\n"
     ]
    },
    {
     "data": {
      "text/plain": [
       "Year\n",
       "2011    71744.103871\n",
       "2012    74113.262265\n",
       "2013    77611.443142\n",
       "2014    75471.836912\n",
       "2015    77508.269562\n",
       "2016    80513.166356\n",
       "2017    84234.645789\n",
       "2018    87181.908324\n",
       "Name: TotalPay, dtype: float64"
      ]
     },
     "execution_count": 18,
     "metadata": {},
     "output_type": "execute_result"
    }
   ],
   "source": [
    "df.groupby('Year').mean()['TotalPay']\n"
   ]
  },
  {
   "cell_type": "markdown",
   "id": "35764b17",
   "metadata": {},
   "source": [
    "#### 4.JobTitle Analysis:\n",
    "1- Which Job Title  have the highest and lowest average salaries?\n",
    "2- How does the salary distribution vary across different JobTitle?"
   ]
  },
  {
   "cell_type": "code",
   "execution_count": 19,
   "id": "d052a00a",
   "metadata": {},
   "outputs": [
    {
     "data": {
      "text/html": [
       "<div>\n",
       "<style scoped>\n",
       "    .dataframe tbody tr th:only-of-type {\n",
       "        vertical-align: middle;\n",
       "    }\n",
       "\n",
       "    .dataframe tbody tr th {\n",
       "        vertical-align: top;\n",
       "    }\n",
       "\n",
       "    .dataframe thead th {\n",
       "        text-align: right;\n",
       "    }\n",
       "</style>\n",
       "<table border=\"1\" class=\"dataframe\">\n",
       "  <thead>\n",
       "    <tr style=\"text-align: right;\">\n",
       "      <th></th>\n",
       "      <th>JobTitle</th>\n",
       "      <th>TotalPay</th>\n",
       "    </tr>\n",
       "  </thead>\n",
       "  <tbody>\n",
       "    <tr>\n",
       "      <th>270573</th>\n",
       "      <td>police officer 3</td>\n",
       "      <td>592394.34</td>\n",
       "    </tr>\n",
       "  </tbody>\n",
       "</table>\n",
       "</div>"
      ],
      "text/plain": [
       "                JobTitle   TotalPay\n",
       "270573  police officer 3  592394.34"
      ]
     },
     "execution_count": 19,
     "metadata": {},
     "output_type": "execute_result"
    }
   ],
   "source": [
    "Filter_JobTitle = df[\"TotalPay\"] == df[\"TotalPay\"].max()\n",
    "df[Filter_JobTitle][[\"JobTitle\", \"TotalPay\"]]"
   ]
  },
  {
   "cell_type": "code",
   "execution_count": 20,
   "id": "e01b7f11",
   "metadata": {},
   "outputs": [
    {
     "data": {
      "text/html": [
       "<div>\n",
       "<style scoped>\n",
       "    .dataframe tbody tr th:only-of-type {\n",
       "        vertical-align: middle;\n",
       "    }\n",
       "\n",
       "    .dataframe tbody tr th {\n",
       "        vertical-align: top;\n",
       "    }\n",
       "\n",
       "    .dataframe thead th {\n",
       "        text-align: right;\n",
       "    }\n",
       "</style>\n",
       "<table border=\"1\" class=\"dataframe\">\n",
       "  <thead>\n",
       "    <tr style=\"text-align: right;\">\n",
       "      <th></th>\n",
       "      <th>JobTitle</th>\n",
       "      <th>TotalPay</th>\n",
       "    </tr>\n",
       "  </thead>\n",
       "  <tbody>\n",
       "    <tr>\n",
       "      <th>148649</th>\n",
       "      <td>counselor, log cabin ranch</td>\n",
       "      <td>-618.13</td>\n",
       "    </tr>\n",
       "  </tbody>\n",
       "</table>\n",
       "</div>"
      ],
      "text/plain": [
       "                          JobTitle  TotalPay\n",
       "148649  counselor, log cabin ranch   -618.13"
      ]
     },
     "execution_count": 20,
     "metadata": {},
     "output_type": "execute_result"
    }
   ],
   "source": [
    "Filter_JobTitlemini = df[\"TotalPay\"] == df[\"TotalPay\"].min()\n",
    "df[Filter_JobTitlemini][[\"JobTitle\", \"TotalPay\"]]"
   ]
  },
  {
   "cell_type": "code",
   "execution_count": 21,
   "id": "0a7f6fbd",
   "metadata": {},
   "outputs": [
    {
     "data": {
      "text/plain": [
       "count               312882\n",
       "unique                1755\n",
       "top       transit operator\n",
       "freq                 20383\n",
       "Name: JobTitle, dtype: object"
      ]
     },
     "execution_count": 21,
     "metadata": {},
     "output_type": "execute_result"
    }
   ],
   "source": [
    "df[\"JobTitle\"].describe()"
   ]
  },
  {
   "cell_type": "markdown",
   "id": "49d4faf4",
   "metadata": {},
   "source": [
    "#### 5. Top Earners:\n",
    "Who are the top 10 earners in the dataset?\n",
    "Which JobTitle has the highest number of top earners?"
   ]
  },
  {
   "cell_type": "code",
   "execution_count": 34,
   "id": "916959cd",
   "metadata": {},
   "outputs": [
    {
     "name": "stdout",
     "output_type": "stream",
     "text": [
      "                EmployeeName                                        JobTitle  \\\n",
      "270573         paulo morgado                                police officer 3   \n",
      "0             nathaniel ford  general manager-metropolitan transit authority   \n",
      "270574  william j coaker jr.                        chief investment officer   \n",
      "229007  william j coaker jr.                        chief investment officer   \n",
      "1               gary jimenez                 captain iii (police department)   \n",
      "188037  william j coaker jr.                        chief investment officer   \n",
      "148650  william j coaker jr.                        chief investment officer   \n",
      "229010          ronald terry                            sheriff's lieutenant   \n",
      "110531           david shinn                                  deputy chief 3   \n",
      "270575        david e francl                               managing director   \n",
      "\n",
      "          BasePay  OvertimePay   OtherPay   Benefits   TotalPay  \\\n",
      "270573  592394.34         0.00       0.00  120408.02  592394.34   \n",
      "0       167411.18         0.00  400184.25       0.00  567595.43   \n",
      "270574  560793.00         0.00       0.00  119876.54  560793.00   \n",
      "229007  545294.86         0.00       0.00  120885.28  545294.86   \n",
      "1       155966.02    245131.88  137811.38       0.00  538909.28   \n",
      "188037  527343.14         0.00       0.00  114502.68  527343.14   \n",
      "148650  507831.60         0.00       0.00  125891.73  507831.60   \n",
      "229010  176590.01    273076.56   32145.23   64428.26  481811.80   \n",
      "110531  129150.01         0.00  342802.63   38780.04  471952.64   \n",
      "270575  468997.01         0.00       0.00   94470.27  468997.01   \n",
      "\n",
      "        TotalPayBenefits  Year  \n",
      "270573         712802.36  2018  \n",
      "0              567595.43  2011  \n",
      "270574         680669.54  2018  \n",
      "229007         666180.14  2017  \n",
      "1              538909.28  2011  \n",
      "188037         641845.82  2016  \n",
      "148650         633723.33  2015  \n",
      "229010         546240.06  2017  \n",
      "110531         510732.68  2014  \n",
      "270575         563467.28  2018  \n"
     ]
    }
   ],
   "source": [
    "top_10_earners = df.nlargest(10, 'TotalPay')\n",
    "print(top_10_earners)"
   ]
  },
  {
   "cell_type": "code",
   "execution_count": 25,
   "id": "da6dc089",
   "metadata": {},
   "outputs": [
    {
     "data": {
      "text/html": [
       "<div>\n",
       "<style scoped>\n",
       "    .dataframe tbody tr th:only-of-type {\n",
       "        vertical-align: middle;\n",
       "    }\n",
       "\n",
       "    .dataframe tbody tr th {\n",
       "        vertical-align: top;\n",
       "    }\n",
       "\n",
       "    .dataframe thead th {\n",
       "        text-align: right;\n",
       "    }\n",
       "</style>\n",
       "<table border=\"1\" class=\"dataframe\">\n",
       "  <thead>\n",
       "    <tr style=\"text-align: right;\">\n",
       "      <th></th>\n",
       "      <th>JobTitle</th>\n",
       "      <th>TotalPay</th>\n",
       "    </tr>\n",
       "  </thead>\n",
       "  <tbody>\n",
       "    <tr>\n",
       "      <th>270573</th>\n",
       "      <td>police officer 3</td>\n",
       "      <td>592394.34</td>\n",
       "    </tr>\n",
       "  </tbody>\n",
       "</table>\n",
       "</div>"
      ],
      "text/plain": [
       "                JobTitle   TotalPay\n",
       "270573  police officer 3  592394.34"
      ]
     },
     "execution_count": 25,
     "metadata": {},
     "output_type": "execute_result"
    }
   ],
   "source": [
    "highest_JobTitle = df[\"TotalPay\"] == df[\"TotalPay\"].max()\n",
    "df[highest_JobTitle][[\"JobTitle\", \"TotalPay\"]]"
   ]
  },
  {
   "cell_type": "markdown",
   "id": "5257fcb9",
   "metadata": {},
   "source": [
    "#### 6. Overtime Analysis:\n",
    "What is the proportion of employees who receive overtime pay?\n",
    "How does overtime pay affect the overall salary distribution?"
   ]
  },
  {
   "cell_type": "code",
   "execution_count": 26,
   "id": "118cd187",
   "metadata": {},
   "outputs": [
    {
     "data": {
      "text/plain": [
       "EmployeeName\n",
       "a bernard  fatooh        1\n",
       "a bernard fatooh         7\n",
       "a elizabeth marchasin    1\n",
       "a jamil niazi            1\n",
       "a k finizio              5\n",
       "                        ..\n",
       "zuri  jones              1\n",
       "zuri jones               7\n",
       "zuri s chavarin cerda    1\n",
       "zuzanna e czerw          2\n",
       "zykeill j council        1\n",
       "Name: OvertimePay, Length: 99865, dtype: int64"
      ]
     },
     "execution_count": 26,
     "metadata": {},
     "output_type": "execute_result"
    }
   ],
   "source": [
    "df.groupby([\"EmployeeName\"]).count()[\"OvertimePay\"]"
   ]
  },
  {
   "cell_type": "code",
   "execution_count": 27,
   "id": "9b6f11de",
   "metadata": {},
   "outputs": [
    {
     "data": {
      "text/plain": [
       "count    312882.000000\n",
       "mean       5668.911274\n",
       "std       12745.638970\n",
       "min        -292.800000\n",
       "25%           0.000000\n",
       "50%           0.000000\n",
       "75%        5223.115000\n",
       "max      309481.030000\n",
       "Name: OvertimePay, dtype: float64"
      ]
     },
     "execution_count": 27,
     "metadata": {},
     "output_type": "execute_result"
    }
   ],
   "source": [
    "df['OvertimePay'].describe()"
   ]
  },
  {
   "cell_type": "markdown",
   "id": "f69aaa57",
   "metadata": {},
   "source": [
    "#### 7. Benefits Analysis:\n",
    "What are the most common benefits offered to employees?\n",
    "Is there a correlation between benefits and salaries?"
   ]
  },
  {
   "cell_type": "code",
   "execution_count": 29,
   "id": "11134504",
   "metadata": {},
   "outputs": [
    {
     "data": {
      "text/html": [
       "<div>\n",
       "<style scoped>\n",
       "    .dataframe tbody tr th:only-of-type {\n",
       "        vertical-align: middle;\n",
       "    }\n",
       "\n",
       "    .dataframe tbody tr th {\n",
       "        vertical-align: top;\n",
       "    }\n",
       "\n",
       "    .dataframe thead th {\n",
       "        text-align: right;\n",
       "    }\n",
       "</style>\n",
       "<table border=\"1\" class=\"dataframe\">\n",
       "  <thead>\n",
       "    <tr style=\"text-align: right;\">\n",
       "      <th></th>\n",
       "      <th>EmployeeName</th>\n",
       "      <th>TotalPayBenefits</th>\n",
       "    </tr>\n",
       "  </thead>\n",
       "  <tbody>\n",
       "    <tr>\n",
       "      <th>270573</th>\n",
       "      <td>paulo morgado</td>\n",
       "      <td>712802.36</td>\n",
       "    </tr>\n",
       "  </tbody>\n",
       "</table>\n",
       "</div>"
      ],
      "text/plain": [
       "         EmployeeName  TotalPayBenefits\n",
       "270573  paulo morgado         712802.36"
      ]
     },
     "execution_count": 29,
     "metadata": {},
     "output_type": "execute_result"
    }
   ],
   "source": [
    "df[df['TotalPayBenefits'] == df['TotalPayBenefits'].max()][['EmployeeName', 'TotalPayBenefits']]"
   ]
  },
  {
   "cell_type": "code",
   "execution_count": 36,
   "id": "8dadf738",
   "metadata": {},
   "outputs": [
    {
     "data": {
      "text/plain": [
       "125891.73"
      ]
     },
     "execution_count": 36,
     "metadata": {},
     "output_type": "execute_result"
    }
   ],
   "source": [
    "df['Benefits'].max()"
   ]
  },
  {
   "cell_type": "code",
   "execution_count": 39,
   "id": "27c1a9eb",
   "metadata": {},
   "outputs": [
    {
     "data": {
      "text/html": [
       "<div>\n",
       "<style scoped>\n",
       "    .dataframe tbody tr th:only-of-type {\n",
       "        vertical-align: middle;\n",
       "    }\n",
       "\n",
       "    .dataframe tbody tr th {\n",
       "        vertical-align: top;\n",
       "    }\n",
       "\n",
       "    .dataframe thead th {\n",
       "        text-align: right;\n",
       "    }\n",
       "</style>\n",
       "<table border=\"1\" class=\"dataframe\">\n",
       "  <thead>\n",
       "    <tr style=\"text-align: right;\">\n",
       "      <th></th>\n",
       "      <th>TotalPay</th>\n",
       "      <th>Benefits</th>\n",
       "    </tr>\n",
       "  </thead>\n",
       "  <tbody>\n",
       "    <tr>\n",
       "      <th>TotalPay</th>\n",
       "      <td>1.000000</td>\n",
       "      <td>0.761994</td>\n",
       "    </tr>\n",
       "    <tr>\n",
       "      <th>Benefits</th>\n",
       "      <td>0.761994</td>\n",
       "      <td>1.000000</td>\n",
       "    </tr>\n",
       "  </tbody>\n",
       "</table>\n",
       "</div>"
      ],
      "text/plain": [
       "          TotalPay  Benefits\n",
       "TotalPay  1.000000  0.761994\n",
       "Benefits  0.761994  1.000000"
      ]
     },
     "execution_count": 39,
     "metadata": {},
     "output_type": "execute_result"
    }
   ],
   "source": [
    "df[['TotalPay', 'Benefits']].corr()"
   ]
  },
  {
   "cell_type": "markdown",
   "id": "85cba73d",
   "metadata": {},
   "source": [
    "#### there are no correlation between benefits  and salaries"
   ]
  },
  {
   "cell_type": "markdown",
   "id": "3ff31823",
   "metadata": {},
   "source": [
    "#### 8. Top Paid Job Titles:\n",
    "What are the top 10 job titles with the highest average salaries?\n",
    "How has the ranking of these job titles changed over time?"
   ]
  },
  {
   "cell_type": "code",
   "execution_count": 47,
   "id": "b3f4cffc",
   "metadata": {
    "scrolled": true
   },
   "outputs": [
    {
     "data": {
      "text/plain": [
       "JobTitle\n",
       "account clerk                                     61290.299253\n",
       "accountant                                        47429.268000\n",
       "accountant i                                      72607.565333\n",
       "accountant ii                                     95791.913126\n",
       "accountant ii (ocii)                              95855.966667\n",
       "                                                      ...     \n",
       "worker's compensation supervisor i                91020.726000\n",
       "x-ray laboratory aide                             64646.436124\n",
       "youth comm advisor                                69760.714444\n",
       "youth commission advisor, board of supervisors    53632.870000\n",
       "zoo curator                                       66686.560000\n",
       "Name: TotalPayBenefits, Length: 1755, dtype: float64"
      ]
     },
     "execution_count": 47,
     "metadata": {},
     "output_type": "execute_result"
    }
   ],
   "source": [
    "df.groupby([\"JobTitle\"])[\"TotalPayBenefits\"].mean() "
   ]
  },
  {
   "cell_type": "markdown",
   "id": "0ec311ec",
   "metadata": {},
   "source": [
    "here, i don't know how to get top 10 and ranking"
   ]
  },
  {
   "cell_type": "markdown",
   "id": "c164f484",
   "metadata": {},
   "source": [
    "#### 9. Employee Distribution:\n",
    "How many employees work in each department?\n",
    "What is the percentage distribution of employees across different JobTitle?"
   ]
  },
  {
   "cell_type": "code",
   "execution_count": 49,
   "id": "db84bf00",
   "metadata": {},
   "outputs": [
    {
     "data": {
      "text/plain": [
       "JobTitle\n",
       "account clerk                                     629\n",
       "accountant                                          5\n",
       "accountant i                                       15\n",
       "accountant ii                                     435\n",
       "accountant ii (ocii)                                3\n",
       "                                                 ... \n",
       "worker's compensation supervisor i                  5\n",
       "x-ray laboratory aide                             129\n",
       "youth comm advisor                                  9\n",
       "youth commission advisor, board of supervisors      1\n",
       "zoo curator                                         1\n",
       "Name: EmployeeName, Length: 1755, dtype: int64"
      ]
     },
     "execution_count": 49,
     "metadata": {},
     "output_type": "execute_result"
    }
   ],
   "source": [
    "df.groupby([\"JobTitle\"])[\"EmployeeName\"].count()"
   ]
  },
  {
   "cell_type": "code",
   "execution_count": 50,
   "id": "ba3847b1",
   "metadata": {},
   "outputs": [
    {
     "data": {
      "text/html": [
       "<div>\n",
       "<style scoped>\n",
       "    .dataframe tbody tr th:only-of-type {\n",
       "        vertical-align: middle;\n",
       "    }\n",
       "\n",
       "    .dataframe tbody tr th {\n",
       "        vertical-align: top;\n",
       "    }\n",
       "\n",
       "    .dataframe thead th {\n",
       "        text-align: right;\n",
       "    }\n",
       "</style>\n",
       "<table border=\"1\" class=\"dataframe\">\n",
       "  <thead>\n",
       "    <tr style=\"text-align: right;\">\n",
       "      <th></th>\n",
       "      <th>count</th>\n",
       "      <th>unique</th>\n",
       "      <th>top</th>\n",
       "      <th>freq</th>\n",
       "    </tr>\n",
       "    <tr>\n",
       "      <th>JobTitle</th>\n",
       "      <th></th>\n",
       "      <th></th>\n",
       "      <th></th>\n",
       "      <th></th>\n",
       "    </tr>\n",
       "  </thead>\n",
       "  <tbody>\n",
       "    <tr>\n",
       "      <th>account clerk</th>\n",
       "      <td>629</td>\n",
       "      <td>275</td>\n",
       "      <td>sue tan</td>\n",
       "      <td>7</td>\n",
       "    </tr>\n",
       "    <tr>\n",
       "      <th>accountant</th>\n",
       "      <td>5</td>\n",
       "      <td>5</td>\n",
       "      <td>carlito nepacena</td>\n",
       "      <td>1</td>\n",
       "    </tr>\n",
       "    <tr>\n",
       "      <th>accountant i</th>\n",
       "      <td>15</td>\n",
       "      <td>8</td>\n",
       "      <td>carlito a nepacena</td>\n",
       "      <td>4</td>\n",
       "    </tr>\n",
       "    <tr>\n",
       "      <th>accountant ii</th>\n",
       "      <td>435</td>\n",
       "      <td>222</td>\n",
       "      <td>emily s chesley</td>\n",
       "      <td>7</td>\n",
       "    </tr>\n",
       "    <tr>\n",
       "      <th>accountant ii (ocii)</th>\n",
       "      <td>3</td>\n",
       "      <td>1</td>\n",
       "      <td>amit talwar</td>\n",
       "      <td>3</td>\n",
       "    </tr>\n",
       "    <tr>\n",
       "      <th>...</th>\n",
       "      <td>...</td>\n",
       "      <td>...</td>\n",
       "      <td>...</td>\n",
       "      <td>...</td>\n",
       "    </tr>\n",
       "    <tr>\n",
       "      <th>worker's compensation supervisor i</th>\n",
       "      <td>5</td>\n",
       "      <td>5</td>\n",
       "      <td>linda bernstein</td>\n",
       "      <td>1</td>\n",
       "    </tr>\n",
       "    <tr>\n",
       "      <th>x-ray laboratory aide</th>\n",
       "      <td>129</td>\n",
       "      <td>72</td>\n",
       "      <td>kin shing lui</td>\n",
       "      <td>5</td>\n",
       "    </tr>\n",
       "    <tr>\n",
       "      <th>youth comm advisor</th>\n",
       "      <td>9</td>\n",
       "      <td>7</td>\n",
       "      <td>adele a carpenter</td>\n",
       "      <td>2</td>\n",
       "    </tr>\n",
       "    <tr>\n",
       "      <th>youth commission advisor, board of supervisors</th>\n",
       "      <td>1</td>\n",
       "      <td>1</td>\n",
       "      <td>mario yedidia</td>\n",
       "      <td>1</td>\n",
       "    </tr>\n",
       "    <tr>\n",
       "      <th>zoo curator</th>\n",
       "      <td>1</td>\n",
       "      <td>1</td>\n",
       "      <td>myron sulak</td>\n",
       "      <td>1</td>\n",
       "    </tr>\n",
       "  </tbody>\n",
       "</table>\n",
       "<p>1755 rows × 4 columns</p>\n",
       "</div>"
      ],
      "text/plain": [
       "                                               count unique  \\\n",
       "JobTitle                                                      \n",
       "account clerk                                    629    275   \n",
       "accountant                                         5      5   \n",
       "accountant i                                      15      8   \n",
       "accountant ii                                    435    222   \n",
       "accountant ii (ocii)                               3      1   \n",
       "...                                              ...    ...   \n",
       "worker's compensation supervisor i                 5      5   \n",
       "x-ray laboratory aide                            129     72   \n",
       "youth comm advisor                                 9      7   \n",
       "youth commission advisor, board of supervisors     1      1   \n",
       "zoo curator                                        1      1   \n",
       "\n",
       "                                                               top freq  \n",
       "JobTitle                                                                 \n",
       "account clerk                                              sue tan    7  \n",
       "accountant                                        carlito nepacena    1  \n",
       "accountant i                                    carlito a nepacena    4  \n",
       "accountant ii                                      emily s chesley    7  \n",
       "accountant ii (ocii)                                   amit talwar    3  \n",
       "...                                                            ...  ...  \n",
       "worker's compensation supervisor i                 linda bernstein    1  \n",
       "x-ray laboratory aide                                kin shing lui    5  \n",
       "youth comm advisor                               adele a carpenter    2  \n",
       "youth commission advisor, board of supervisors       mario yedidia    1  \n",
       "zoo curator                                            myron sulak    1  \n",
       "\n",
       "[1755 rows x 4 columns]"
      ]
     },
     "execution_count": 50,
     "metadata": {},
     "output_type": "execute_result"
    }
   ],
   "source": [
    "df.groupby([\"JobTitle\"])[\"EmployeeName\"].describe()"
   ]
  },
  {
   "cell_type": "markdown",
   "id": "6de4126c",
   "metadata": {},
   "source": [
    "#### 10 - Cost of Living:\n",
    "Is there any correlation between the cost of living in San Francisco and employee salaries?"
   ]
  },
  {
   "cell_type": "markdown",
   "id": "6117a15d",
   "metadata": {},
   "source": [
    "--> I don't know how to answer this "
   ]
  },
  {
   "cell_type": "markdown",
   "id": "9272b207",
   "metadata": {},
   "source": [
    "#### 11. Employee Tenure:\n",
    "How does the salary vary based on employee tenure in the organization?\n",
    "Do long-term employees receive higher salaries?"
   ]
  },
  {
   "cell_type": "markdown",
   "id": "91a24393",
   "metadata": {},
   "source": [
    "--> I don't know how to answer this "
   ]
  },
  {
   "cell_type": "markdown",
   "id": "9c58d85a",
   "metadata": {},
   "source": [
    "#### 12. Performance and Salary:\n",
    "Is there any correlation between years and employee salaries?"
   ]
  },
  {
   "cell_type": "code",
   "execution_count": 52,
   "id": "b304696f",
   "metadata": {},
   "outputs": [
    {
     "data": {
      "text/html": [
       "<div>\n",
       "<style scoped>\n",
       "    .dataframe tbody tr th:only-of-type {\n",
       "        vertical-align: middle;\n",
       "    }\n",
       "\n",
       "    .dataframe tbody tr th {\n",
       "        vertical-align: top;\n",
       "    }\n",
       "\n",
       "    .dataframe thead th {\n",
       "        text-align: right;\n",
       "    }\n",
       "</style>\n",
       "<table border=\"1\" class=\"dataframe\">\n",
       "  <thead>\n",
       "    <tr style=\"text-align: right;\">\n",
       "      <th></th>\n",
       "      <th>Year</th>\n",
       "      <th>TotalPay</th>\n",
       "    </tr>\n",
       "  </thead>\n",
       "  <tbody>\n",
       "    <tr>\n",
       "      <th>Year</th>\n",
       "      <td>1.000000</td>\n",
       "      <td>0.087536</td>\n",
       "    </tr>\n",
       "    <tr>\n",
       "      <th>TotalPay</th>\n",
       "      <td>0.087536</td>\n",
       "      <td>1.000000</td>\n",
       "    </tr>\n",
       "  </tbody>\n",
       "</table>\n",
       "</div>"
      ],
      "text/plain": [
       "              Year  TotalPay\n",
       "Year      1.000000  0.087536\n",
       "TotalPay  0.087536  1.000000"
      ]
     },
     "execution_count": 52,
     "metadata": {},
     "output_type": "execute_result"
    }
   ],
   "source": [
    "df[['Year', 'TotalPay']].corr()"
   ]
  },
  {
   "cell_type": "markdown",
   "id": "635ebbc0",
   "metadata": {},
   "source": [
    "#### there are no correlation between years  and salaries"
   ]
  },
  {
   "cell_type": "code",
   "execution_count": 53,
   "id": "a19c4666",
   "metadata": {},
   "outputs": [
    {
     "data": {
      "text/html": [
       "<div>\n",
       "<style scoped>\n",
       "    .dataframe tbody tr th:only-of-type {\n",
       "        vertical-align: middle;\n",
       "    }\n",
       "\n",
       "    .dataframe tbody tr th {\n",
       "        vertical-align: top;\n",
       "    }\n",
       "\n",
       "    .dataframe thead th {\n",
       "        text-align: right;\n",
       "    }\n",
       "</style>\n",
       "<table border=\"1\" class=\"dataframe\">\n",
       "  <thead>\n",
       "    <tr style=\"text-align: right;\">\n",
       "      <th></th>\n",
       "      <th>EmployeeName</th>\n",
       "      <th>JobTitle</th>\n",
       "      <th>BasePay</th>\n",
       "      <th>OvertimePay</th>\n",
       "      <th>OtherPay</th>\n",
       "      <th>Benefits</th>\n",
       "      <th>TotalPay</th>\n",
       "      <th>TotalPayBenefits</th>\n",
       "      <th>Year</th>\n",
       "    </tr>\n",
       "  </thead>\n",
       "  <tbody>\n",
       "    <tr>\n",
       "      <th>0</th>\n",
       "      <td>nathaniel ford</td>\n",
       "      <td>general manager-metropolitan transit authority</td>\n",
       "      <td>167411.18</td>\n",
       "      <td>0.00</td>\n",
       "      <td>400184.25</td>\n",
       "      <td>0.0</td>\n",
       "      <td>567595.43</td>\n",
       "      <td>567595.43</td>\n",
       "      <td>2011</td>\n",
       "    </tr>\n",
       "    <tr>\n",
       "      <th>1</th>\n",
       "      <td>gary jimenez</td>\n",
       "      <td>captain iii (police department)</td>\n",
       "      <td>155966.02</td>\n",
       "      <td>245131.88</td>\n",
       "      <td>137811.38</td>\n",
       "      <td>0.0</td>\n",
       "      <td>538909.28</td>\n",
       "      <td>538909.28</td>\n",
       "      <td>2011</td>\n",
       "    </tr>\n",
       "    <tr>\n",
       "      <th>2</th>\n",
       "      <td>albert pardini</td>\n",
       "      <td>captain iii (police department)</td>\n",
       "      <td>212739.13</td>\n",
       "      <td>106088.18</td>\n",
       "      <td>16452.60</td>\n",
       "      <td>0.0</td>\n",
       "      <td>335279.91</td>\n",
       "      <td>335279.91</td>\n",
       "      <td>2011</td>\n",
       "    </tr>\n",
       "    <tr>\n",
       "      <th>3</th>\n",
       "      <td>christopher chong</td>\n",
       "      <td>wire rope cable maintenance mechanic</td>\n",
       "      <td>77916.00</td>\n",
       "      <td>56120.71</td>\n",
       "      <td>198306.90</td>\n",
       "      <td>0.0</td>\n",
       "      <td>332343.61</td>\n",
       "      <td>332343.61</td>\n",
       "      <td>2011</td>\n",
       "    </tr>\n",
       "    <tr>\n",
       "      <th>4</th>\n",
       "      <td>patrick gardner</td>\n",
       "      <td>deputy chief of department,(fire department)</td>\n",
       "      <td>134401.60</td>\n",
       "      <td>9737.00</td>\n",
       "      <td>182234.59</td>\n",
       "      <td>0.0</td>\n",
       "      <td>326373.19</td>\n",
       "      <td>326373.19</td>\n",
       "      <td>2011</td>\n",
       "    </tr>\n",
       "    <tr>\n",
       "      <th>...</th>\n",
       "      <td>...</td>\n",
       "      <td>...</td>\n",
       "      <td>...</td>\n",
       "      <td>...</td>\n",
       "      <td>...</td>\n",
       "      <td>...</td>\n",
       "      <td>...</td>\n",
       "      <td>...</td>\n",
       "      <td>...</td>\n",
       "    </tr>\n",
       "    <tr>\n",
       "      <th>312877</th>\n",
       "      <td>daniel w plautz</td>\n",
       "      <td>public service trainee</td>\n",
       "      <td>0.00</td>\n",
       "      <td>0.00</td>\n",
       "      <td>0.00</td>\n",
       "      <td>0.0</td>\n",
       "      <td>0.00</td>\n",
       "      <td>0.00</td>\n",
       "      <td>2018</td>\n",
       "    </tr>\n",
       "    <tr>\n",
       "      <th>312878</th>\n",
       "      <td>david j thompson</td>\n",
       "      <td>deputy sheriff</td>\n",
       "      <td>0.00</td>\n",
       "      <td>0.00</td>\n",
       "      <td>0.00</td>\n",
       "      <td>0.0</td>\n",
       "      <td>0.00</td>\n",
       "      <td>0.00</td>\n",
       "      <td>2018</td>\n",
       "    </tr>\n",
       "    <tr>\n",
       "      <th>312879</th>\n",
       "      <td>keiko weng yee lau</td>\n",
       "      <td>public service trainee</td>\n",
       "      <td>0.00</td>\n",
       "      <td>0.00</td>\n",
       "      <td>0.00</td>\n",
       "      <td>0.0</td>\n",
       "      <td>0.00</td>\n",
       "      <td>0.00</td>\n",
       "      <td>2018</td>\n",
       "    </tr>\n",
       "    <tr>\n",
       "      <th>312880</th>\n",
       "      <td>david wong</td>\n",
       "      <td>deputy sheriff</td>\n",
       "      <td>0.00</td>\n",
       "      <td>0.00</td>\n",
       "      <td>0.00</td>\n",
       "      <td>0.0</td>\n",
       "      <td>0.00</td>\n",
       "      <td>0.00</td>\n",
       "      <td>2018</td>\n",
       "    </tr>\n",
       "    <tr>\n",
       "      <th>312881</th>\n",
       "      <td>debora e howard</td>\n",
       "      <td>recreation leader</td>\n",
       "      <td>0.00</td>\n",
       "      <td>0.00</td>\n",
       "      <td>0.00</td>\n",
       "      <td>0.0</td>\n",
       "      <td>0.00</td>\n",
       "      <td>0.00</td>\n",
       "      <td>2018</td>\n",
       "    </tr>\n",
       "  </tbody>\n",
       "</table>\n",
       "<p>312882 rows × 9 columns</p>\n",
       "</div>"
      ],
      "text/plain": [
       "              EmployeeName                                        JobTitle  \\\n",
       "0           nathaniel ford  general manager-metropolitan transit authority   \n",
       "1             gary jimenez                 captain iii (police department)   \n",
       "2           albert pardini                 captain iii (police department)   \n",
       "3        christopher chong            wire rope cable maintenance mechanic   \n",
       "4          patrick gardner    deputy chief of department,(fire department)   \n",
       "...                    ...                                             ...   \n",
       "312877     daniel w plautz                          public service trainee   \n",
       "312878    david j thompson                                  deputy sheriff   \n",
       "312879  keiko weng yee lau                          public service trainee   \n",
       "312880          david wong                                  deputy sheriff   \n",
       "312881     debora e howard                               recreation leader   \n",
       "\n",
       "          BasePay  OvertimePay   OtherPay  Benefits   TotalPay  \\\n",
       "0       167411.18         0.00  400184.25       0.0  567595.43   \n",
       "1       155966.02    245131.88  137811.38       0.0  538909.28   \n",
       "2       212739.13    106088.18   16452.60       0.0  335279.91   \n",
       "3        77916.00     56120.71  198306.90       0.0  332343.61   \n",
       "4       134401.60      9737.00  182234.59       0.0  326373.19   \n",
       "...           ...          ...        ...       ...        ...   \n",
       "312877       0.00         0.00       0.00       0.0       0.00   \n",
       "312878       0.00         0.00       0.00       0.0       0.00   \n",
       "312879       0.00         0.00       0.00       0.0       0.00   \n",
       "312880       0.00         0.00       0.00       0.0       0.00   \n",
       "312881       0.00         0.00       0.00       0.0       0.00   \n",
       "\n",
       "        TotalPayBenefits  Year  \n",
       "0              567595.43  2011  \n",
       "1              538909.28  2011  \n",
       "2              335279.91  2011  \n",
       "3              332343.61  2011  \n",
       "4              326373.19  2011  \n",
       "...                  ...   ...  \n",
       "312877              0.00  2018  \n",
       "312878              0.00  2018  \n",
       "312879              0.00  2018  \n",
       "312880              0.00  2018  \n",
       "312881              0.00  2018  \n",
       "\n",
       "[312882 rows x 9 columns]"
      ]
     },
     "execution_count": 53,
     "metadata": {},
     "output_type": "execute_result"
    }
   ],
   "source": [
    "df"
   ]
  },
  {
   "cell_type": "code",
   "execution_count": null,
   "id": "bca9cf61",
   "metadata": {},
   "outputs": [],
   "source": []
  }
 ],
 "metadata": {
  "kernelspec": {
   "display_name": "Python 3 (ipykernel)",
   "language": "python",
   "name": "python3"
  },
  "language_info": {
   "codemirror_mode": {
    "name": "ipython",
    "version": 3
   },
   "file_extension": ".py",
   "mimetype": "text/x-python",
   "name": "python",
   "nbconvert_exporter": "python",
   "pygments_lexer": "ipython3",
   "version": "3.10.9"
  }
 },
 "nbformat": 4,
 "nbformat_minor": 5
}
